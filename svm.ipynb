{
 "cells": [
  {
   "cell_type": "code",
   "execution_count": 1,
   "metadata": {},
   "outputs": [
    {
     "data": {
      "image/png": "[encoded data removed]",
      "text/plain": [
       "<matplotlib.figure.Figure at 0x7f7757105dd0>"
      ]
     },
     "metadata": {},
     "output_type": "display_data"
    }
   ],
   "source": [
    "import numpy as np\n",
    "from matplotlib import pyplot as plt\n",
    "%matplotlib inline\n",
    "import csv\n",
    "\n",
    "'''With open(‘LorR.csv’, ‘rb’) as f:\n",
    "reader = csv.reader(f)\n",
    "for row in reader:\n",
    "    print row'''\n",
    "points = np.genfromtxt('LorR.csv', delimiter = ',')\n",
    "\n",
    "X = []\n",
    "Y = []\n",
    "\n",
    "for point in points :\n",
    "    x = point[1] * point[2]\n",
    "    y = point[3] * point[4]\n",
    "    p = []\n",
    "    if x > y :\n",
    "        point[0] = -1\n",
    "        plt.scatter(x, y, s=120, marker='_', linewidths=2)\n",
    "\n",
    "    elif x < y:\n",
    "        point[0] = 1\n",
    "        plt.scatter(x, y, s=120, marker='+', linewidths=2)\n",
    "        \n",
    "    p.extend([x, y])\n",
    "    X.append(p)\n",
    "    Y.append(point[0])\n",
    "    \n",
    "#print(X)\n",
    "#print(Y)\n",
    "\n",
    "x_poi = np.array(X)\n",
    "y_poi = np.array(Y)\n"
   ]
  },
  {
   "cell_type": "code",
   "execution_count": 2,
   "metadata": {
    "scrolled": true
   },
   "outputs": [
    {
     "data": {
      "image/png": "[encoded data removed]",
      "text/plain": [
       "<matplotlib.figure.Figure at 0x7f7756185590>"
      ]
     },
     "metadata": {},
     "output_type": "display_data"
    },
    {
     "name": "stdout",
     "output_type": "stream",
     "text": [
      "[-1026.   979.]\n"
     ]
    }
   ],
   "source": [
    "X = x_poi\n",
    "Y = y_poi\n",
    "\n",
    "w = np.zeros(len(X[0]))\n",
    "eta = 1\n",
    "epochs = 5000\n",
    "errors = []\n",
    "for epoch in range(1,epochs):\n",
    "    error = 0\n",
    "    for i, x in enumerate(X):\n",
    "        if (Y[i]*np.dot(X[i], w)) < 1:\n",
    "            w = w + eta * ( (X[i] * Y[i]) + (-2  *(1/epoch)* w) )\n",
    "            error = 1\n",
    "        else:\n",
    "            w = w + eta * (-2  *(1/epoch)* w)\n",
    "        errors.append(error)\n",
    "        \n",
    "    #lets plot the rate of classification errors during training for our SVM\n",
    "plt.plot(errors, '|')\n",
    "plt.ylim(0.5,1.5)\n",
    "plt.axes().set_yticklabels([])\n",
    "plt.xlabel('Epoch')\n",
    "plt.ylabel('Misclassified')\n",
    "plt.show()\n",
    "\n",
    "print(w)"
   ]
  },
  {
   "cell_type": "code",
   "execution_count": 3,
   "metadata": {},
   "outputs": [
    {
     "data": {
      "text/plain": [
       "<matplotlib.quiver.Quiver at 0x7f7756281b90>"
      ]
     },
     "execution_count": 3,
     "metadata": {},
     "output_type": "execute_result"
    },
    {
     "data": {
      "image/png": "[encoded data removed]",
      "text/plain": [
       "<matplotlib.figure.Figure at 0x7f775615fb90>"
      ]
     },
     "metadata": {},
     "output_type": "display_data"
    }
   ],
   "source": [
    "for d, sample in enumerate(X):\n",
    "    # Plot the negative samples\n",
    "    if Y[d] < -1:\n",
    "        plt.scatter(sample[0], sample[1], s=120, marker='_', linewidths=2)\n",
    "    # Plot the positive samples\n",
    "    else:\n",
    "        plt.scatter(sample[0], sample[1], s=120, marker='+', linewidths=2)\n",
    "\n",
    "# Add our test samples\n",
    "plt.scatter(2,2, s=120, marker='_', linewidths=2, color='yellow')\n",
    "plt.scatter(4,3, s=120, marker='+', linewidths=2, color='blue')\n",
    "\n",
    "# Print the hyperplane calculated by svm_sgd()\n",
    "x2=[w[0],w[1],-w[1],w[0]]\n",
    "x3=[w[0],w[1],w[1],-w[0]]\n",
    "\n",
    "x2x3 =np.array([x2,x3])\n",
    "X,Y,U,V = zip(*x2x3)\n",
    "ax = plt.gca()\n",
    "ax.quiver(X,Y,U,V,scale=1, color='blue')"
   ]
  },
  {
   "cell_type": "code",
   "execution_count": null,
   "metadata": {},
   "outputs": [],
   "source": []
  }
 ],
 "metadata": {
  "kernelspec": {
   "display_name": "Python 2",
   "language": "python",
   "name": "python2"
  },
  "language_info": {
   "codemirror_mode": {
    "name": "ipython",
    "version": 2
   },
   "file_extension": ".py",
   "mimetype": "text/x-python",
   "name": "python",
   "nbconvert_exporter": "python",
   "pygments_lexer": "ipython2",
   "version": "2.7.12"
  }
 },
 "nbformat": 4,
 "nbformat_minor": 2
}
